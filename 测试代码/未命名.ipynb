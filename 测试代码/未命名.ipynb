{
 "cells": [
  {
   "cell_type": "code",
   "execution_count": 3,
   "id": "c7472acd",
   "metadata": {},
   "outputs": [],
   "source": [
    "from model.tool import dcmlib\n"
   ]
  },
  {
   "cell_type": "code",
   "execution_count": 4,
   "id": "a113bd6b",
   "metadata": {},
   "outputs": [],
   "source": [
    "from model.tool import dcmtool\n"
   ]
  },
  {
   "cell_type": "code",
   "execution_count": 5,
   "id": "4d8b1af2",
   "metadata": {},
   "outputs": [
    {
     "name": "stdout",
     "output_type": "stream",
     "text": [
      " 驱动器 D 中的卷是 Data\n",
      " 卷的序列号是 569C-DB26\n",
      "\n",
      " D:\\code\\pygame\\8 的目录\n",
      "\n",
      "27/02/2023  14:21    <DIR>          .\n",
      "27/02/2023  14:21    <DIR>          ..\n",
      "27/02/2023  14:19    <DIR>          .ipynb_checkpoints\n",
      "24/02/2023  19:29                 0 __init__.py\n",
      "24/02/2023  19:29           548,540 ct_13.dcm\n",
      "27/02/2023  14:17    <DIR>          dcm\n",
      "24/02/2023  19:58            92,229 e.png\n",
      "27/02/2023  14:16    <DIR>          Font\n",
      "24/02/2023  19:29               308 main.py\n",
      "27/02/2023  14:16    <DIR>          model\n",
      "24/02/2023  19:29               687 next.txt\n",
      "25/02/2023  16:15           189,806 sift_dcm_img.png\n",
      "25/02/2023  16:15           284,466 sift_img.png\n",
      "25/02/2023  16:15           284,466 sift_out.png\n",
      "27/02/2023  14:16    <DIR>          useless\n",
      "27/02/2023  14:21             1,639 未命名.ipynb\n",
      "24/02/2023  19:29             2,131 计划.txt\n",
      "              10 个文件      1,404,272 字节\n",
      "               7 个目录 165,673,484,288 可用字节\n"
     ]
    }
   ],
   "source": [
    "ls\n"
   ]
  },
  {
   "cell_type": "code",
   "execution_count": 9,
   "id": "3499f036",
   "metadata": {},
   "outputs": [],
   "source": [
    "f=r\"./dcm/ct_01.dcm\""
   ]
  },
  {
   "cell_type": "code",
   "execution_count": 7,
   "id": "d91c1ee7",
   "metadata": {},
   "outputs": [],
   "source": [
    "import pydicom"
   ]
  },
  {
   "cell_type": "code",
   "execution_count": 10,
   "id": "79e2cfaf",
   "metadata": {},
   "outputs": [],
   "source": [
    "ds1=pydicom.read_file(f)\n"
   ]
  },
  {
   "cell_type": "code",
   "execution_count": 11,
   "id": "200ddbe0",
   "metadata": {},
   "outputs": [
    {
     "data": {
      "text/plain": [
       "Dataset.file_meta -------------------------------\n",
       "(0002, 0000) File Meta Information Group Length  UL: 202\n",
       "(0002, 0001) File Meta Information Version       OB: b'\\x00\\x01'\n",
       "(0002, 0002) Media Storage SOP Class UID         UI: CT Image Storage\n",
       "(0002, 0003) Media Storage SOP Instance UID      UI: 1.3.6.1.4.1.13148.1.6.0.238368709501637.7271811805939589\n",
       "(0002, 0010) Transfer Syntax UID                 UI: Explicit VR Little Endian\n",
       "(0002, 0012) Implementation Class UID            UI: 1.3.6.1.4.1.13148.1.6.0\n",
       "(0002, 0013) Implementation Version Name         SH: 'MoziDicom 6.0'\n",
       "(0002, 0016) Source Application Entity Title     AE: ''\n",
       "-------------------------------------------------\n",
       "(0008, 0000) Group Length                        UL: 716\n",
       "(0008, 0008) Image Type                          CS: ['ORIGINAL', 'PRIMARY', 'AXIAL']\n",
       "(0008, 0012) Instance Creation Date              DA: '20230105'\n",
       "(0008, 0013) Instance Creation Time              TM: '121156'\n",
       "(0008, 0016) SOP Class UID                       UI: CT Image Storage\n",
       "(0008, 0018) SOP Instance UID                    UI: 1.3.6.1.4.1.13148.1.6.0.238368709501637.7271811805939589\n",
       "(0008, 0020) Study Date                          DA: '20230105'\n",
       "(0008, 0022) Acquisition Date                    DA: '20230105'\n",
       "(0008, 0023) Content Date                        DA: '20230105'\n",
       "(0008, 0030) Study Time                          TM: '121034'\n",
       "(0008, 0032) Acquisition Time                    TM: '121152'\n",
       "(0008, 0033) Content Time                        TM: '121152.000000'\n",
       "(0008, 0050) Accession Number                    SH: '01014429'\n",
       "(0008, 0060) Modality                            CS: 'CT'\n",
       "(0008, 0070) Manufacturer                        LO: 'Philips'\n",
       "(0008, 0080) Institution Name                    LO: 'BJ PG hosp of TCM-GX'\n",
       "(0008, 0081) Institution Address                 ST: 'Beijing'\n",
       "(0008, 0090) Referring Physician's Name          PN: ''\n",
       "(0008, 1010) Station Name                        SH: 'PHILIPS-6199'\n",
       "(0008, 1030) Study Description                   LO: 'Head'\n",
       "(0008, 103e) Series Description                  LO: ''\n",
       "(0008, 1040) Institutional Department Name       LO: 'Radiology'\n",
       "(0008, 1070) Operators' Name                     PN: ''\n",
       "(0008, 1090) Manufacturer's Model Name           LO: 'Brilliance 16P'\n",
       "(0008, 1110)  Referenced Study Sequence  0 item(s) ---- \n",
       "(0008, 1111)  Referenced Performed Procedure Step Sequence  1 item(s) ---- \n",
       "   (0008, 1150) Referenced SOP Class UID            UI: Modality Performed Procedure Step SOP Class\n",
       "   (0008, 1155) Referenced SOP Instance UID         UI: 1.2.840.113704.1.111.3080.1672891832.519\n",
       "   ---------\n",
       "(0008, 1120)  Referenced Patient Sequence  0 item(s) ---- \n",
       "(0008, 1140)  Referenced Image Sequence  1 item(s) ---- \n",
       "   (0008, 1150) Referenced SOP Class UID            UI: CT Image Storage\n",
       "   (0008, 1155) Referenced SOP Instance UID         UI: 1.2.840.113704.1.111.3956.1672891864.107146\n",
       "   ---------\n",
       "(0010, 0000) Group Length                        UL: 106\n",
       "(0010, 0010) Patient's Name                      PN: 'Jia lichen'\n",
       "(0010, 0020) Patient ID                          LO: '00303246'\n",
       "(0010, 0030) Patient's Birth Date                DA: '19910313'\n",
       "(0010, 0040) Patient's Sex                       CS: 'M'\n",
       "(0010, 1010) Patient's Age                       AS: '031Y'\n",
       "(0010, 1030) Patient's Weight                    DS: None\n",
       "(0010, 2000) Medical Alerts                      LO: ''\n",
       "(0010, 2110) Allergies                           LO: ''\n",
       "(0010, 21c0) Pregnancy Status                    US: 4\n",
       "(0018, 0000) Group Length                        UL: 360\n",
       "(0018, 0022) Scan Options                        CS: 'AXIAL'\n",
       "(0018, 0050) Slice Thickness                     DS: '4.5'\n",
       "(0018, 0060) KVP                                 DS: '120.0'\n",
       "(0018, 0090) Data Collection Diameter            DS: '500.0'\n",
       "(0018, 1020) Software Versions                   LO: '2.3.0'\n",
       "(0018, 1030) Protocol Name                       LO: 'PG-Brain Axial NEW/Head'\n",
       "(0018, 1100) Reconstruction Diameter             DS: '225.0'\n",
       "(0018, 1120) Gantry/Detector Tilt                DS: '-8.0'\n",
       "(0018, 1130) Table Height                        DS: '121.0'\n",
       "(0018, 1140) Rotation Direction                  CS: 'CW'\n",
       "(0018, 1143) Scan Arc                            DS: '420.0'\n",
       "(0018, 1150) Exposure Time                       IS: '1750'\n",
       "(0018, 1151) X-Ray Tube Current                  IS: '154'\n",
       "(0018, 1152) Exposure                            IS: '270'\n",
       "(0018, 1160) Filter Type                         SH: 'UB'\n",
       "(0018, 1210) Convolution Kernel                  SH: 'UB'\n",
       "(0018, 5100) Patient Position                    CS: 'HFS'\n",
       "(0018, 9321)  CT Exposure Sequence  1 item(s) ---- \n",
       "   (0018, 9324) Estimated Dose Saving               FD: 0.0\n",
       "   (0018, 9328) Exposure Time in ms                 FD: 1.7532467532467533\n",
       "   (0018, 9330) X-Ray Tube Current in mA            FD: 154.0\n",
       "   (0018, 9332) Exposure in mAs                     FD: 270.0\n",
       "   (0018, 9345) CTDIvol                             FD: 37.4\n",
       "   ---------\n",
       "(0018, 9323) Exposure Modulation Type            CS: ''\n",
       "(0018, 9345) CTDIvol                             FD: 37.4\n",
       "(0020, 0000) Group Length                        UL: 306\n",
       "(0020, 000d) Study Instance UID                  UI: 1.2.840.113704.1.111.4452.1672891834.1\n",
       "(0020, 000e) Series Instance UID                 UI: 1.3.6.1.4.1.13148.1.6.0.238368709501637.7271811805869585\n",
       "(0020, 0010) Study ID                            SH: '380408'\n",
       "(0020, 0011) Series Number                       IS: '2'\n",
       "(0020, 0012) Acquisition Number                  IS: None\n",
       "(0020, 0013) Instance Number                     IS: '1'\n",
       "(0020, 0032) Image Position (Patient)            DS: [-112.5, -1.171591, 84.79126]\n",
       "(0020, 0037) Image Orientation (Patient)         DS: [1, 0, 0, 0, 0.9902681, -0.1391731]\n",
       "(0020, 0052) Frame of Reference UID              UI: 1.2.840.113704.1.111.4452.1672891836.4\n",
       "(0020, 0060) Laterality                          CS: ''\n",
       "(0020, 1040) Position Reference Indicator        LO: ''\n",
       "(0020, 1041) Slice Location                      DS: '66.38'\n",
       "(0020, 4000) Image Comments                      LT: ''\n",
       "(0028, 0000) Group Length                        UL: 162\n",
       "(0028, 0002) Samples per Pixel                   US: 1\n",
       "(0028, 0004) Photometric Interpretation          CS: 'MONOCHROME2'\n",
       "(0028, 0010) Rows                                US: 512\n",
       "(0028, 0011) Columns                             US: 512\n",
       "(0028, 0030) Pixel Spacing                       DS: [0.4394531, 0.4394531]\n",
       "(0028, 0100) Bits Allocated                      US: 16\n",
       "(0028, 0101) Bits Stored                         US: 12\n",
       "(0028, 0102) High Bit                            US: 11\n",
       "(0028, 0103) Pixel Representation                US: 0\n",
       "(0028, 1050) Window Center                       DS: '40.0'\n",
       "(0028, 1051) Window Width                        DS: '80.0'\n",
       "(0028, 1052) Rescale Intercept                   DS: '-1024.0'\n",
       "(0028, 1053) Rescale Slope                       DS: '1.0'\n",
       "(0032, 0000) Group Length                        UL: 20\n",
       "(0032, 1060) Requested Procedure Description     LO: 'Head'\n",
       "(0032, 1070) Requested Contrast Agent            LO: ''\n",
       "(0038, 0000) Group Length                        UL: 24\n",
       "(0038, 0010) Admission ID                        LO: ''\n",
       "(0038, 0050) Special Needs                       LO: ''\n",
       "(0038, 0500) Patient State                       LO: ''\n",
       "(0040, 0000) Group Length                        UL: 136\n",
       "(0040, 0012) Pre-Medication                      LO: ''\n",
       "(0040, 0253) Performed Procedure Step ID         SH: '38040852'\n",
       "(0040, 0254) Performed Procedure Step Descriptio LO: 'Head'\n",
       "(0040, 0275)  Request Attributes Sequence  1 item(s) ---- \n",
       "   (0040, 0007) Scheduled Procedure Step Descriptio LO: 'Head'\n",
       "   (0040, 0008)  Scheduled Protocol Code Sequence  0 item(s) ---- \n",
       "   (0040, 0009) Scheduled Procedure Step ID         SH: '1622'\n",
       "   (0040, 1001) Requested Procedure ID              SH: '1622'\n",
       "   ---------\n",
       "(0040, 3001) Confidentiality Constraint on Patie LO: ''\n",
       "(00e1, 0000) Private Creator                     UL: 130\n",
       "(00e1, 0010) Private tag data                    LO: 'ELSCINT1'\n",
       "(00e1, 1001) [Data Dictionary Version]           US: 1\n",
       "(00e1, 1022) [Presentation Relative Center]      DS: [00000, 00000]\n",
       "(00e1, 1023) [Presentation Relative Part]        DS: [00001, 00001]\n",
       "(00e1, 1040) [Image Label]                       SH: ''\n",
       "(00e1, 1042) [Unknown]                           LO: ''\n",
       "(00e1, 1061) [Protocol File Name]                LO: 'Head_Multi_1242_usr.proc'\n",
       "(00e1, 1063) [Patient Language]                  SH: 'ENGLISH'\n",
       "(01f1, 0000) Private Creator                     UL: 972\n",
       "(01f1, 0010) Private tag data                    LO: 'ELSCINT1'\n",
       "(01f1, 1001) [Acquisition Type]                  CS: 'SLICES'\n",
       "(01f1, 1002) [Unknown]                           CS: 'STANDARD'\n",
       "(01f1, 1003) [Concurrent Slices Generation]      CS: 'FUSED'\n",
       "(01f1, 1004) [Angular Sampling Density]          CS: 'HIGH'\n",
       "(01f1, 1008) [Acquisition Length]                DS: '126.177002'\n",
       "(01f1, 100a) [Edge Enhancement Weight]           US: 0\n",
       "(01f1, 100c) [Scanner Relative Center]           DS: [0.106666669, 0]\n",
       "(01f1, 100d) [Rotation Angle]                    DS: '0.0'\n",
       "(01f1, 100e) [Unknown]                           FL: 0.0\n",
       "(01f1, 1027) [Rotation Time]                     DS: '1.5'\n",
       "(01f1, 1028) [Unknown]                           DS: '18.0'\n",
       "(01f1, 1030) [Unknown]                           US: 4\n",
       "(01f1, 1032) [Image View Convention]             CS: 'RIGHT_ON_LEFT'\n",
       "(01f1, 1033) [Unknown]                           DS: '3.4'\n",
       "(01f1, 1042) [Unknown]                           SH: 'Yes'\n",
       "(01f1, 1044) [Unknown]                           OW: Array of 644 elements\n",
       "(01f1, 1046) [Unknown]                           FL: 1.5\n",
       "(01f1, 1047) [Unknown]                           SH: '2D'\n",
       "(01f1, 1049) [Unknown]                           DS: '270.0'\n",
       "(01f1, 104a) [Unknown]                           SH: 'NONE'\n",
       "(01f1, 104b) [Unknown]                           SH: '4x4.5'\n",
       "(01f1, 104c) [Unknown]                           SH: 'NO'\n",
       "(01f1, 104d) [Unknown]                           SH: 'NO'\n",
       "(01f1, 104e) [Unknown]                           LO: 'Head'\n",
       "(01f7, 0000) Private Creator                     UL: 20730\n",
       "(01f7, 0010) Private tag data                    LO: 'ELSCINT1'\n",
       "(01f7, 1010) [Unknown]                           OB: b'\\x00\\x00'\n",
       "(01f7, 1011) [Unknown]                           OW: Array of 488 elements\n",
       "(01f7, 1013) [Unknown]                           OW: Array of 136 elements\n",
       "(01f7, 1014) [Unknown]                           OW: Array of 108 elements\n",
       "(01f7, 1015) [Unknown]                           OW: Array of 188 elements\n",
       "(01f7, 1016) [Unknown]                           OW: Array of 40 elements\n",
       "(01f7, 1017) [Unknown]                           OW: b'\\x00\\x00\\x00\\x00\\x00\\x00\\x00\\x00'\n",
       "(01f7, 1018) [Unknown]                           OW: Array of 228 elements\n",
       "(01f7, 1019) [Unknown]                           OW: Array of 2160 elements\n",
       "(01f7, 101a) [Unknown]                           OW: Array of 28 elements\n",
       "(01f7, 101b) [Unknown]                           OW: Array of 1272 elements\n",
       "(01f7, 101c) [Unknown]                           OW: Array of 116 elements\n",
       "(01f7, 101e) [Unknown]                           OW: Array of 364 elements\n",
       "(01f7, 101f) [Unknown]                           OW: Array of 148 elements\n",
       "(01f7, 1022) [Unknown]                           UI: 1.2.840.113704.1.111.4452.1672891896.6.1.1111111111111111111\n",
       "(01f7, 1023) [Unknown]                           OW: b'\\xf4\\x00\\x00\\x00'\n",
       "(01f7, 1025) [Unknown]                           OW: b'\\x01\\x00\\x00\\x00\\x00\\x00\\x00\\x00\\x84\\xf2\\x12\\x00'\n",
       "(01f7, 1026) [Unknown]                           OW: Array of 12724 elements\n",
       "(01f7, 1027) [Unknown]                           OW: Array of 36 elements\n",
       "(01f7, 1029) [Unknown]                           OW: Array of 440 elements\n",
       "(01f7, 102b) [Unknown]                           OW: Array of 36 elements\n",
       "(01f7, 102c) [Unknown]                           OW: Array of 656 elements\n",
       "(01f7, 102d) [Unknown]                           OW: b'\\x96\\xf3\\x16\\xbfQ\\xeb\\x06\\xc1'\n",
       "(01f7, 102e) [Unknown]                           OW: Array of 128 elements\n",
       "(01f7, 1030) [Unknown]                           OW: b'\\x00\\x00\\x00\\x00\\x00\\x00\\x00\\x00\\x00\\x00\\x00\\x00\\x00\\x00\\x00\\x00'\n",
       "(01f7, 1070) [Unknown]                           OW: Array of 584 elements\n",
       "(01f7, 1074) [Unknown]                           OW: Array of 288 elements\n",
       "(01f7, 1075) [Unknown]                           OW: Array of 104 elements\n",
       "(07a1, 0000) Private Creator                     UL: 28\n",
       "(07a1, 0010) Private tag data                    LO: 'ELSCINT1'\n",
       "(07a1, 1010) [Tamar Software Version]            LO: '3.5'\n",
       "(7fdf, 0000) Private Creator                     UL: 36\n",
       "(7fdf, 0010) Private tag data                    LO: 'ELSCINT1'\n",
       "(7fdf, 10f0) [Unknown]                           OB: None\n",
       "(7fdf, 10ff) [Unknown]                           SH: ''\n",
       "(7fe0, 0000) Group Length                        UL: 524300\n",
       "(7fe0, 0010) Pixel Data                          OW: Array of 524288 elements"
      ]
     },
     "execution_count": 11,
     "metadata": {},
     "output_type": "execute_result"
    }
   ],
   "source": [
    "ds1\n"
   ]
  },
  {
   "cell_type": "code",
   "execution_count": 12,
   "id": "52ba85ba",
   "metadata": {},
   "outputs": [],
   "source": [
    "pixel1=dcmlib.get_pixeldata(ds1)"
   ]
  },
  {
   "cell_type": "code",
   "execution_count": 13,
   "id": "7db66dfb",
   "metadata": {},
   "outputs": [
    {
     "data": {
      "text/plain": [
       "(array([[-1000., -1001., -1003., ..., -1001., -1002., -1003.],\n",
       "        [-1001., -1002., -1001., ..., -1003., -1004., -1002.],\n",
       "        [-1001., -1001., -1001., ..., -1004., -1002.,  -999.],\n",
       "        ...,\n",
       "        [-1002., -1001.,  -997., ..., -1000.,  -998.,  -996.],\n",
       "        [-1024., -1024., -1024., ..., -1024., -1024., -1024.],\n",
       "        [-1024., -1024., -1024., ..., -1024., -1024., -1024.]]),\n",
       " 512,\n",
       " 512)"
      ]
     },
     "execution_count": 13,
     "metadata": {},
     "output_type": "execute_result"
    }
   ],
   "source": [
    "pixel1"
   ]
  },
  {
   "cell_type": "code",
   "execution_count": 14,
   "id": "62138eb2",
   "metadata": {},
   "outputs": [
    {
     "ename": "AttributeError",
     "evalue": "'tuple' object has no attribute 'flags'",
     "output_type": "error",
     "traceback": [
      "\u001b[1;31m---------------------------------------------------------------------------\u001b[0m",
      "\u001b[1;31mAttributeError\u001b[0m                            Traceback (most recent call last)",
      "\u001b[1;32m~\\AppData\\Local\\Temp\\ipykernel_8852\\3864076429.py\u001b[0m in \u001b[0;36m<module>\u001b[1;34m\u001b[0m\n\u001b[1;32m----> 1\u001b[1;33m \u001b[0mpixel11\u001b[0m\u001b[1;33m=\u001b[0m\u001b[0mdcmtool\u001b[0m\u001b[1;33m.\u001b[0m\u001b[0msetDicomWinWidthWinCenter\u001b[0m\u001b[1;33m(\u001b[0m\u001b[0mpixel1\u001b[0m\u001b[1;33m,\u001b[0m\u001b[1;36m80\u001b[0m\u001b[1;33m,\u001b[0m\u001b[1;36m40\u001b[0m\u001b[1;33m,\u001b[0m\u001b[1;36m512\u001b[0m\u001b[1;33m,\u001b[0m\u001b[1;36m512\u001b[0m\u001b[1;33m)\u001b[0m\u001b[1;33m\u001b[0m\u001b[1;33m\u001b[0m\u001b[0m\n\u001b[0m",
      "\u001b[1;32mD:\\code\\pygame\\8\\model\\tool\\dcmtool.py\u001b[0m in \u001b[0;36msetDicomWinWidthWinCenter\u001b[1;34m(img_data, winwidth, wincenter, rows, cols)\u001b[0m\n\u001b[0;32m     24\u001b[0m     \u001b[1;31m# print(type(img_temp))\u001b[0m\u001b[1;33m\u001b[0m\u001b[1;33m\u001b[0m\u001b[1;33m\u001b[0m\u001b[0m\n\u001b[0;32m     25\u001b[0m     \u001b[1;31m# print(type(img_data))\u001b[0m\u001b[1;33m\u001b[0m\u001b[1;33m\u001b[0m\u001b[1;33m\u001b[0m\u001b[0m\n\u001b[1;32m---> 26\u001b[1;33m     \u001b[0mimg_temp\u001b[0m\u001b[1;33m.\u001b[0m\u001b[0mflags\u001b[0m\u001b[1;33m.\u001b[0m\u001b[0mwriteable\u001b[0m \u001b[1;33m=\u001b[0m \u001b[1;32mTrue\u001b[0m\u001b[1;33m\u001b[0m\u001b[1;33m\u001b[0m\u001b[0m\n\u001b[0m\u001b[0;32m     27\u001b[0m     \u001b[0mmin\u001b[0m \u001b[1;33m=\u001b[0m \u001b[1;33m(\u001b[0m\u001b[1;36m2\u001b[0m \u001b[1;33m*\u001b[0m \u001b[0mwincenter\u001b[0m \u001b[1;33m-\u001b[0m \u001b[0mwinwidth\u001b[0m\u001b[1;33m)\u001b[0m \u001b[1;33m/\u001b[0m \u001b[1;36m2.0\u001b[0m \u001b[1;33m+\u001b[0m \u001b[1;36m0.5\u001b[0m\u001b[1;33m\u001b[0m\u001b[1;33m\u001b[0m\u001b[0m\n\u001b[0;32m     28\u001b[0m     \u001b[0mmax\u001b[0m \u001b[1;33m=\u001b[0m \u001b[1;33m(\u001b[0m\u001b[1;36m2\u001b[0m \u001b[1;33m*\u001b[0m \u001b[0mwincenter\u001b[0m \u001b[1;33m+\u001b[0m \u001b[0mwinwidth\u001b[0m\u001b[1;33m)\u001b[0m \u001b[1;33m/\u001b[0m \u001b[1;36m2.0\u001b[0m \u001b[1;33m+\u001b[0m \u001b[1;36m0.5\u001b[0m\u001b[1;33m\u001b[0m\u001b[1;33m\u001b[0m\u001b[0m\n",
      "\u001b[1;31mAttributeError\u001b[0m: 'tuple' object has no attribute 'flags'"
     ]
    }
   ],
   "source": [
    "pixel11=dcmtool.setDicomWinWidthWinCenter(pixel1,80,40,512,512)"
   ]
  },
  {
   "cell_type": "code",
   "execution_count": null,
   "id": "9ef4304f",
   "metadata": {},
   "outputs": [],
   "source": []
  }
 ],
 "metadata": {
  "kernelspec": {
   "display_name": "Python 3 (ipykernel)",
   "language": "python",
   "name": "python3"
  },
  "language_info": {
   "codemirror_mode": {
    "name": "ipython",
    "version": 3
   },
   "file_extension": ".py",
   "mimetype": "text/x-python",
   "name": "python",
   "nbconvert_exporter": "python",
   "pygments_lexer": "ipython3",
   "version": "3.8.5"
  }
 },
 "nbformat": 4,
 "nbformat_minor": 5
}
